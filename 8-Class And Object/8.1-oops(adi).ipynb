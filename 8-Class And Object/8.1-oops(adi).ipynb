{
 "cells": [
  {
   "cell_type": "markdown",
   "id": "e82adcf9",
   "metadata": {},
   "source": [
    "####  Classes and Objects\n",
    "Object-Oriented Programming (OOP) is a programming paradigm that uses \"objects\" to design applications and computer programs. OOP allows for modeling real-world scenarios using classes and objects. This lesson covers the basics of creating classes and objects, including instance variables and methods.\n"
   ]
  },
  {
   "cell_type": "code",
   "execution_count": 3,
   "id": "b1a4bb67",
   "metadata": {},
   "outputs": [
    {
     "name": "stdout",
     "output_type": "stream",
     "text": [
      "<class '__main__.Car'>\n"
     ]
    }
   ],
   "source": [
    "### A class is a blue print for creating objects. Attributes,methods\n",
    "class Car:\n",
    "    pass\n",
    "\n",
    "audi = Car()\n",
    "bmw = Car()\n",
    "\n",
    "\n",
    "print(type(audi))"
   ]
  },
  {
   "cell_type": "code",
   "execution_count": 4,
   "id": "f18c7cbe",
   "metadata": {},
   "outputs": [
    {
     "name": "stdout",
     "output_type": "stream",
     "text": [
      "<__main__.Car object at 0x000001C3F74C2930>\n",
      "<__main__.Car object at 0x000001C3F74C1BB0>\n"
     ]
    }
   ],
   "source": [
    "print(audi)\n",
    "print(bmw)"
   ]
  },
  {
   "cell_type": "code",
   "execution_count": 5,
   "id": "41c6b1cc",
   "metadata": {},
   "outputs": [
    {
     "name": "stdout",
     "output_type": "stream",
     "text": [
      "4\n"
     ]
    }
   ],
   "source": [
    "audi.windows = 4  ## Attribute \n",
    "print(audi.windows)"
   ]
  },
  {
   "cell_type": "code",
   "execution_count": 6,
   "id": "d0c537c2",
   "metadata": {},
   "outputs": [
    {
     "ename": "AttributeError",
     "evalue": "'Car' object has no attribute 'windows'",
     "output_type": "error",
     "traceback": [
      "\u001b[1;31m---------------------------------------------------------------------------\u001b[0m",
      "\u001b[1;31mAttributeError\u001b[0m                            Traceback (most recent call last)",
      "Cell \u001b[1;32mIn[6], line 3\u001b[0m\n\u001b[0;32m      1\u001b[0m tata \u001b[38;5;241m=\u001b[39m Car()\n\u001b[0;32m      2\u001b[0m tata\u001b[38;5;241m.\u001b[39mdoors \u001b[38;5;241m=\u001b[39m \u001b[38;5;241m4\u001b[39m\n\u001b[1;32m----> 3\u001b[0m \u001b[38;5;28mprint\u001b[39m(tata\u001b[38;5;241m.\u001b[39mwindows)\n",
      "\u001b[1;31mAttributeError\u001b[0m: 'Car' object has no attribute 'windows'"
     ]
    }
   ],
   "source": [
    "tata = Car()\n",
    "tata.doors = 4\n",
    "print(tata.windows)"
   ]
  },
  {
   "cell_type": "code",
   "execution_count": 7,
   "id": "5cfd9b37",
   "metadata": {},
   "outputs": [
    {
     "data": {
      "text/plain": [
       "['__class__',\n",
       " '__delattr__',\n",
       " '__dict__',\n",
       " '__dir__',\n",
       " '__doc__',\n",
       " '__eq__',\n",
       " '__format__',\n",
       " '__ge__',\n",
       " '__getattribute__',\n",
       " '__getstate__',\n",
       " '__gt__',\n",
       " '__hash__',\n",
       " '__init__',\n",
       " '__init_subclass__',\n",
       " '__le__',\n",
       " '__lt__',\n",
       " '__module__',\n",
       " '__ne__',\n",
       " '__new__',\n",
       " '__reduce__',\n",
       " '__reduce_ex__',\n",
       " '__repr__',\n",
       " '__setattr__',\n",
       " '__sizeof__',\n",
       " '__str__',\n",
       " '__subclasshook__',\n",
       " '__weakref__',\n",
       " 'doors']"
      ]
     },
     "execution_count": 7,
     "metadata": {},
     "output_type": "execute_result"
    }
   ],
   "source": [
    "dir(tata)"
   ]
  },
  {
   "cell_type": "code",
   "execution_count": 10,
   "id": "8ede5703",
   "metadata": {},
   "outputs": [
    {
     "name": "stdout",
     "output_type": "stream",
     "text": [
      "<__main__.Dog object at 0x000001C3F7733E30>\n",
      "Tommy\n",
      "5\n"
     ]
    }
   ],
   "source": [
    "## Instance Variable and Methods \n",
    "class Dog:\n",
    "    ## Constructor \n",
    "    def __init__(self, name, age):   ## name and age are properties of class\n",
    "        self.name = name\n",
    "        self.age = age\n",
    "\n",
    "## Create an object of the dog class\n",
    "dog1 = Dog(\"Tommy\", 5)\n",
    "print(dog1)  \n",
    "print(dog1.name)\n",
    "print(dog1.age)      \n"
   ]
  },
  {
   "cell_type": "code",
   "execution_count": 11,
   "id": "eb7d4d7e",
   "metadata": {},
   "outputs": [
    {
     "name": "stdout",
     "output_type": "stream",
     "text": [
      "Buddy is barking\n"
     ]
    }
   ],
   "source": [
    "class Dog:\n",
    "    ## Constructor \n",
    "    def __init__(self, name, age):   ## name and age are properties of class\n",
    "        self.name = name\n",
    "        self.age = age\n",
    "\n",
    "    def bark(self):\n",
    "        print(f\"{self.name} is barking\") \n",
    "\n",
    "dog1 = Dog(\"Buddy\", 3)      \n",
    "dog1.bark()     "
   ]
  },
  {
   "cell_type": "code",
   "execution_count": 16,
   "id": "ea08dba3",
   "metadata": {},
   "outputs": [
    {
     "name": "stdout",
     "output_type": "stream",
     "text": [
      "500 is deposited. New balance is 1500\n",
      "200 is withdrawn. Newbalance is 1300\n"
     ]
    },
    {
     "data": {
      "text/plain": [
       "1300"
      ]
     },
     "execution_count": 16,
     "metadata": {},
     "output_type": "execute_result"
    }
   ],
   "source": [
    "##Modeling the Bank Account\n",
    "\n",
    "## Define a clas for bank account\n",
    "## out of the class we cannot use the self keyword\n",
    "class BankAccount:\n",
    "    def __init__(self,owner, balance=0):\n",
    "        self.owner = owner\n",
    "        self.balance = balance \n",
    "\n",
    "    def deposite(self,amount):\n",
    "        self.balance += amount\n",
    "        print(f\"{amount} is deposited. New balance is {self.balance}\")  \n",
    "\n",
    "    def withdraw(self , amount):\n",
    "        if amount > self.balance:\n",
    "            print(\"Insufficient Funds\") \n",
    "        else:\n",
    "            self.balance -= amount\n",
    "            print(f\"{amount} is withdrawn. Newbalance is {self.balance}\")   \n",
    "\n",
    "    def get_balance(self):\n",
    "        return self.balance   \n",
    "\n",
    "\n",
    "## create an account \n",
    "account = BankAccount(\"Aditya\" , 1000)\n",
    "account.deposite(500)  \n",
    "account.withdraw(200)\n",
    "account.get_balance()                "
   ]
  }
 ],
 "metadata": {
  "kernelspec": {
   "display_name": "base",
   "language": "python",
   "name": "python3"
  },
  "language_info": {
   "codemirror_mode": {
    "name": "ipython",
    "version": 3
   },
   "file_extension": ".py",
   "mimetype": "text/x-python",
   "name": "python",
   "nbconvert_exporter": "python",
   "pygments_lexer": "ipython3",
   "version": "3.12.7"
  }
 },
 "nbformat": 4,
 "nbformat_minor": 5
}
