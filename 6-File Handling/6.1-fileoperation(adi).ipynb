{
 "cells": [
  {
   "cell_type": "markdown",
   "id": "a789bf00",
   "metadata": {},
   "source": [
    "#### File Operation- Read And Write Files\n",
    "\n",
    "File handling is a crucial part of any programming language. Python provides built-in functions and methods to read from and write to files, both text and binary. This lesson will cover the basics of file handling, including reading and writing text files and binary files."
   ]
  },
  {
   "cell_type": "code",
   "execution_count": 3,
   "id": "24651490",
   "metadata": {},
   "outputs": [
    {
     "name": "stdout",
     "output_type": "stream",
     "text": [
      "hello \n",
      "I am Aditya Raj Singh\n",
      "I am Third Year Student \n",
      "And Currently learning Data Science and Machine Learning \n"
     ]
    }
   ],
   "source": [
    "### Read a whole file \n",
    "\n",
    "with open(\"example.txt\", \"r\") as file:\n",
    "    content = file.read()\n",
    "    print(content)\n"
   ]
  },
  {
   "cell_type": "code",
   "execution_count": 5,
   "id": "91489374",
   "metadata": {},
   "outputs": [
    {
     "name": "stdout",
     "output_type": "stream",
     "text": [
      "hello\n",
      "I am Aditya Raj Singh\n",
      "I am Third Year Student\n",
      "And Currently learning Data Science and Machine Learning\n"
     ]
    }
   ],
   "source": [
    "## Read a file line by line \n",
    "\n",
    "with open(\"example.txt\", \"r\") as file:\n",
    "    for line in file:\n",
    "        print(line.strip())  # Using strip() to remove trailing newline characters\n",
    "        "
   ]
  },
  {
   "cell_type": "code",
   "execution_count": null,
   "id": "edbd2f9b",
   "metadata": {},
   "outputs": [],
   "source": [
    "## Writing a file (Overwriting)  the entire get overwritten \n",
    "\n",
    "with open(\"example.txt\", \"w\") as file:\n",
    "    file.write(\"This is a new line.\\n\")\n",
    "    file.write(\"This is another new line.\\n\")"
   ]
  },
  {
   "cell_type": "code",
   "execution_count": 7,
   "id": "300e9374",
   "metadata": {},
   "outputs": [],
   "source": [
    "## Write a file (without Overwriting) appending to the end of the file\n",
    "with open(\"example.txt\", \"a\") as file:\n",
    "    file.write(\"This is an appended line.\\n\")\n",
    "    file.write(\"This is another appended line.\\n\")"
   ]
  },
  {
   "cell_type": "code",
   "execution_count": 8,
   "id": "9f4786c5",
   "metadata": {},
   "outputs": [],
   "source": [
    "### Writing a list of lines to a file \n",
    "lines = [\"Line 1\\n\", \"Line 2\\n\", \"Line 3\\n\"]\n",
    "with open(\"example.txt\", \"a\") as file:\n",
    "    file.writelines(lines)  "
   ]
  },
  {
   "cell_type": "code",
   "execution_count": 6,
   "id": "c667d74a",
   "metadata": {},
   "outputs": [],
   "source": [
    "## Binary files operations \n",
    "\n",
    "## Writing to a binary file \n",
    "\n",
    "data = b'\\x00\\x01\\x02\\x03\\x04'\n",
    "with open('example.bin', 'wb') as file:\n",
    "    file.write(data)"
   ]
  },
  {
   "cell_type": "code",
   "execution_count": 7,
   "id": "c63c723d",
   "metadata": {},
   "outputs": [
    {
     "name": "stdout",
     "output_type": "stream",
     "text": [
      "b'\\x00\\x01\\x02\\x03\\x04'\n"
     ]
    }
   ],
   "source": [
    "## Reading a binary file \n",
    "with open('example.bin', 'rb') as file:\n",
    "    content = file.read()\n",
    "    print(content)"
   ]
  },
  {
   "cell_type": "code",
   "execution_count": null,
   "id": "77945627",
   "metadata": {},
   "outputs": [],
   "source": [
    "### Read the content from source text file and write to a destination text file \n",
    "\n",
    "with open(\"example.txt\", \"r\") as source_file:\n",
    "    content = source_file.read()\n",
    "\n",
    "with open(\"destination.txt\", \"w\") as destination_file:    \n",
    "    destination_file.write(content)"
   ]
  },
  {
   "cell_type": "code",
   "execution_count": null,
   "id": "6a9e5805",
   "metadata": {},
   "outputs": [],
   "source": [
    "#Read a text file and count the number of lines, words, and characters.\n",
    "# Counting lines, words, and characters in a text file\n",
    " \"\"\"Important for Revision \"\"\"\n",
    "\n",
    "def count_text_file(file_path):\n",
    "    with open(file_path, 'r') as file:\n",
    "        lines = file.readlines()\n",
    "        line_count = len(lines)\n",
    "        word_count = sum(len(line.split()) for line in lines)\n",
    "        char_count = sum(len(line) for line in lines)\n",
    "    return line_count, word_count, char_count\n",
    "\n",
    "file_path = 'example.txt'\n",
    "lines, words, characters = count_text_file(file_path)\n",
    "print(f'Lines: {lines}, Words: {words}, Characters: {characters}')\n"
   ]
  },
  {
   "cell_type": "markdown",
   "id": "b9d5f0dd",
   "metadata": {},
   "source": [
    "The w+ mode in Python is used to open a file for both reading and writing. If the file does not exist, it will be created. If the file exists, its content is truncated (i.e., the file is overwritten)."
   ]
  },
  {
   "cell_type": "code",
   "execution_count": 10,
   "id": "931ac6ce",
   "metadata": {},
   "outputs": [
    {
     "name": "stdout",
     "output_type": "stream",
     "text": [
      "hello world\n",
      "This is a test file.\n",
      "\n"
     ]
    }
   ],
   "source": [
    "## Writing and then reading a file\n",
    "\n",
    "with open(\"example.txt\", \"w+\") as file:\n",
    "    file.write(\"hello world\\n\")\n",
    "    file.write(\"This is a test file.\\n\")\n",
    "\n",
    "    ## Move the file cursor to the beginning of the file\n",
    "    file.seek(0)\n",
    "\n",
    "    ## Read the content of the file\n",
    "    content = file.read()\n",
    "    print(content)"
   ]
  },
  {
   "cell_type": "markdown",
   "id": "d1acd3b5",
   "metadata": {},
   "source": []
  },
  {
   "cell_type": "code",
   "execution_count": null,
   "id": "b2d4ed39",
   "metadata": {},
   "outputs": [],
   "source": []
  },
  {
   "cell_type": "code",
   "execution_count": null,
   "id": "77e5b53c",
   "metadata": {},
   "outputs": [],
   "source": []
  },
  {
   "cell_type": "code",
   "execution_count": null,
   "id": "2d56f9dd",
   "metadata": {},
   "outputs": [],
   "source": []
  }
 ],
 "metadata": {
  "kernelspec": {
   "display_name": "base",
   "language": "python",
   "name": "python3"
  },
  "language_info": {
   "codemirror_mode": {
    "name": "ipython",
    "version": 3
   },
   "file_extension": ".py",
   "mimetype": "text/x-python",
   "name": "python",
   "nbconvert_exporter": "python",
   "pygments_lexer": "ipython3",
   "version": "3.12.7"
  }
 },
 "nbformat": 4,
 "nbformat_minor": 5
}
