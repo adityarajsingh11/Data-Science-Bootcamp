{
 "cells": [
  {
   "cell_type": "markdown",
   "metadata": {},
   "source": [
    "#### Conditional Statements (if, elif, else)\n",
    "Content Outline:\n",
    "1. Introduction to Conditional Statements\n",
    "2. if Statement\n",
    "3. else Statement\n",
    "4. elif Statement\n",
    "5. Nested Conditional Statements\n",
    "6. Practical Examples\n",
    "7. Common Errors and Best Practices"
   ]
  },
  {
   "cell_type": "code",
   "execution_count": 1,
   "metadata": {},
   "outputs": [
    {
     "name": "stdout",
     "output_type": "stream",
     "text": [
      "You are allowed to vote to election\n"
     ]
    }
   ],
   "source": [
    "## if statement\n",
    "\n",
    "age = 20\n",
    "\n",
    "if age>=18:\n",
    "    print(\"You are allowed to vote to election\")"
   ]
  },
  {
   "cell_type": "code",
   "execution_count": 2,
   "metadata": {},
   "outputs": [
    {
     "name": "stdout",
     "output_type": "stream",
     "text": [
      "You are minor\n"
     ]
    }
   ],
   "source": [
    "## else statement \n",
    "## The else stement executes the block of code if the condition in the if statement is false\n",
    "\n",
    "age = 16\n",
    "\n",
    "if age >= 18:\n",
    "    print(\"You are allowed to vote\")\n",
    "else:\n",
    "    print(\"You are minor\")    \n"
   ]
  },
  {
   "cell_type": "code",
   "execution_count": 3,
   "metadata": {},
   "outputs": [
    {
     "name": "stdout",
     "output_type": "stream",
     "text": [
      "You are an adult\n"
     ]
    }
   ],
   "source": [
    "## elif statement \n",
    "## The elif statement allows to check the multiple condition . It stands for \"else if\"\n",
    "\n",
    "age = 20\n",
    "\n",
    "if age <13:\n",
    "    print(\"You are a child\")\n",
    "elif age <18:\n",
    "    print(\"You are teeneger\")\n",
    "else:\n",
    "    print(\"You are an adult\")            "
   ]
  },
  {
   "cell_type": "code",
   "execution_count": null,
   "metadata": {},
   "outputs": [
    {
     "name": "stdout",
     "output_type": "stream",
     "text": [
      "positive number\n",
      "Odd Number\n"
     ]
    }
   ],
   "source": [
    "## nested condition statement \n",
    "\n",
    "### You can place one or more if, elif, or else statements inside another if, elif, or else statement to create nested conditional statements.\n",
    "\n",
    "# number even ,odd,negative\n",
    "num = int(input(\"Enter the number\"))\n",
    "if num >=0:\n",
    "    print(\"positive number\")\n",
    "    if num%2 == 0:\n",
    "        print(\"Even number\")\n",
    "    else:\n",
    "        print(\"Odd Number\")   \n",
    "else:\n",
    "    print(\"Negative Number\")         \n"
   ]
  },
  {
   "cell_type": "code",
   "execution_count": 6,
   "metadata": {},
   "outputs": [
    {
     "name": "stdout",
     "output_type": "stream",
     "text": [
      "2024  is leap year\n"
     ]
    }
   ],
   "source": [
    "## Practical Examples\n",
    "\n",
    "## Determine if a year is a leap year using nested condition statement\n",
    "\n",
    "year = int(input(\"Enter the year\"))\n",
    "\n",
    "if year % 4== 0:\n",
    "    if year%100== 0:\n",
    "        if year%400 == 0:\n",
    "            print(year,\" is leap year\")\n",
    "        else:\n",
    "            print(year,\" is not leap year\")\n",
    "    else:\n",
    "        print(year,\" is leap year\")\n",
    "else:\n",
    "    print(year,\" is not leap year\")                    \n",
    "\n"
   ]
  },
  {
   "cell_type": "code",
   "execution_count": 8,
   "metadata": {},
   "outputs": [
    {
     "name": "stdout",
     "output_type": "stream",
     "text": [
      "Answer: 0.23214285714285715\n"
     ]
    }
   ],
   "source": [
    "## Assignment \n",
    "\n",
    "## simple calculator\n",
    "num1 = int(input(\"Enter the number1\"))\n",
    "num2 = int(input(\"Enter the number2\"))\n",
    "operator = input(\"Enter the operator(+,-,*,/)\")\n",
    "\n",
    "if operator == '+':\n",
    "    result = num1 + num2\n",
    "elif operator == '-':\n",
    "    result = num1 - num2\n",
    "elif operator == \"*\":\n",
    "    result = num1 * num2\n",
    "else:\n",
    "    if num2 != 0:\n",
    "        result = num1 / num2\n",
    "    else:\n",
    "        print(\"not possible\")    \n",
    "\n",
    "print(\"Answer:\",result)                \n"
   ]
  },
  {
   "cell_type": "markdown",
   "metadata": {},
   "source": [
    "### Example: User Login System"
   ]
  },
  {
   "cell_type": "code",
   "execution_count": 10,
   "metadata": {},
   "outputs": [
    {
     "name": "stdout",
     "output_type": "stream",
     "text": [
      "Login successful\n"
     ]
    }
   ],
   "source": [
    "## A simple user login system that checks the username and password\n",
    "\n",
    "## Predefined username and password\n",
    "stored_username = \"@adi2005\"\n",
    "stored_password = \"#677168@\"\n",
    "\n",
    "## From the user \n",
    "username = input(\"Enter the username\")\n",
    "password = input(\"Enter the password\")\n",
    "\n",
    "## check credential \n",
    "if username == stored_username:\n",
    "    if password == stored_password:\n",
    "        print(\"Login successful\")\n",
    "    else:\n",
    "        print(\"Wrong password\")\n",
    "else:\n",
    "    print(\"wrong username\")        "
   ]
  }
 ],
 "metadata": {
  "kernelspec": {
   "display_name": "base",
   "language": "python",
   "name": "python3"
  },
  "language_info": {
   "codemirror_mode": {
    "name": "ipython",
    "version": 3
   },
   "file_extension": ".py",
   "mimetype": "text/x-python",
   "name": "python",
   "nbconvert_exporter": "python",
   "pygments_lexer": "ipython3",
   "version": "3.12.7"
  }
 },
 "nbformat": 4,
 "nbformat_minor": 2
}
