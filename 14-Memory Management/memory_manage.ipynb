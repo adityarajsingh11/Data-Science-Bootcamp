{
 "cells": [
  {
   "cell_type": "markdown",
   "id": "7f50ee0d",
   "metadata": {},
   "source": [
    "#### Python Memory Management\n",
    "Memory management in Python involves a combination of automatic garbage collection, reference counting, and various internal optimizations to efficiently manage memory allocation and deallocation. Understanding these mechanisms can help developers write more efficient and robust applications.\n",
    "\n",
    "1. Key Concepts in Python Memory Management\n",
    "2. Memory Allocation and Deallocation\n",
    "3. Reference Counting\n",
    "4. Garbage Collection\n",
    "5. The gc Module\n",
    "6. Memory Management Best Practices"
   ]
  },
  {
   "cell_type": "markdown",
   "id": "e3104cdb",
   "metadata": {},
   "source": [
    "#### Reference Counting\n",
    "Reference counting is the primary method Python uses to manage memory. Each object in Python maintains a count of references pointing to it. When the reference count drops to zero, the memory occupied by the object is deallocated."
   ]
  },
  {
   "cell_type": "code",
   "execution_count": 1,
   "id": "c6ae4178",
   "metadata": {},
   "outputs": [
    {
     "name": "stdout",
     "output_type": "stream",
     "text": [
      "2\n"
     ]
    }
   ],
   "source": [
    "import sys \n",
    "\n",
    "a=[]\n",
    "# 2 (one reference from 'a' and one from getrefcount())\n",
    "print(sys.getrefcount(a))"
   ]
  },
  {
   "cell_type": "code",
   "execution_count": null,
   "id": "c851760b",
   "metadata": {},
   "outputs": [
    {
     "name": "stdout",
     "output_type": "stream",
     "text": [
      "3\n"
     ]
    }
   ],
   "source": [
    "b = a  # one more reference to b\n",
    "print(sys.getrefcount(a))"
   ]
  },
  {
   "cell_type": "code",
   "execution_count": 3,
   "id": "7d1dceba",
   "metadata": {},
   "outputs": [
    {
     "name": "stdout",
     "output_type": "stream",
     "text": [
      "2\n"
     ]
    }
   ],
   "source": [
    "del b  # dereference b\n",
    "print(sys.getrefcount(a))"
   ]
  },
  {
   "cell_type": "markdown",
   "id": "ee80645c",
   "metadata": {},
   "source": [
    "#### Garbage Collection\n",
    "Python includes a cyclic garbage collector to handle reference cycles. Reference cycles occur when objects reference each other, preventing their reference counts from reaching zero."
   ]
  },
  {
   "cell_type": "code",
   "execution_count": 5,
   "id": "65706175",
   "metadata": {},
   "outputs": [],
   "source": [
    "import gc\n",
    "## enabling the garbage collection\n",
    "gc.enable()"
   ]
  },
  {
   "cell_type": "code",
   "execution_count": 6,
   "id": "be529155",
   "metadata": {},
   "outputs": [],
   "source": [
    "## disable the garbage collection\n",
    "gc.disable()"
   ]
  },
  {
   "cell_type": "code",
   "execution_count": 7,
   "id": "e691ae6f",
   "metadata": {},
   "outputs": [
    {
     "data": {
      "text/plain": [
       "566"
      ]
     },
     "execution_count": 7,
     "metadata": {},
     "output_type": "execute_result"
    }
   ],
   "source": [
    "gc.collect()  # force a garbage collection"
   ]
  },
  {
   "cell_type": "code",
   "execution_count": 8,
   "id": "1ef4d7f9",
   "metadata": {},
   "outputs": [
    {
     "name": "stdout",
     "output_type": "stream",
     "text": [
      "[{'collections': 234, 'collected': 2383, 'uncollectable': 0}, {'collections': 21, 'collected': 399, 'uncollectable': 0}, {'collections': 2, 'collected': 594, 'uncollectable': 0}]\n"
     ]
    }
   ],
   "source": [
    "## Get garbage collection stats\n",
    "print(gc.get_stats())"
   ]
  },
  {
   "cell_type": "code",
   "execution_count": null,
   "id": "06cd4aec",
   "metadata": {},
   "outputs": [],
   "source": [
    "## get unreachable objects\n",
    "print(gc.garbage)"
   ]
  },
  {
   "cell_type": "markdown",
   "id": "06bd8d2d",
   "metadata": {},
   "source": [
    "####  Memory Management Best Practices\n",
    "1. Use Local Variables: Local variables have a shorter lifespan and are freed sooner than global variables.\n",
    "2. Avoid Circular References: Circular references can lead to memory leaks if not properly managed.\n",
    "3. Use Generators: Generators produce items one at a time and only keep one item in memory at a time, making them memory efficient.\n",
    "4. Explicitly Delete Objects: Use the del statement to delete variables and objects explicitly.\n",
    "5. Profile Memory Usage: Use memory profiling tools like tracemalloc and memory_profiler to identify memory leaks and optimize memory usage."
   ]
  },
  {
   "cell_type": "code",
   "execution_count": null,
   "id": "aee640f6",
   "metadata": {},
   "outputs": [
    {
     "name": "stdout",
     "output_type": "stream",
     "text": [
      "Object obj1 created\n",
      "Object obj2 created\n",
      "Object obj1 destroyed\n",
      "Object obj2 destroyed\n",
      "Object obj1 destroyed\n",
      "Object obj2 destroyed\n"
     ]
    },
    {
     "data": {
      "text/plain": [
       "478"
      ]
     },
     "execution_count": 10,
     "metadata": {},
     "output_type": "execute_result"
    }
   ],
   "source": [
    "## handling the circular references\n",
    "import gc\n",
    "\n",
    "class MYObject:\n",
    "    def __init__(self,name):\n",
    "        self.name = name\n",
    "        print(f'Object {self.name} created')\n",
    "\n",
    "    def __del__(self):\n",
    "        print(f'Object {self.name} destroyed')   \n",
    "\n",
    "## create the circular reference         \n",
    "obj1 = MYObject('obj1')\n",
    "obj2 = MYObject('obj2')\n",
    "obj1.ref = obj2\n",
    "obj2.ref = obj1\n",
    "\n",
    "del obj1\n",
    "del obj2\n",
    "\n",
    "## Manually trigger the garbage collection \n",
    "gc.collect()"
   ]
  },
  {
   "cell_type": "code",
   "execution_count": 19,
   "id": "7dc27a9c",
   "metadata": {},
   "outputs": [
    {
     "name": "stdout",
     "output_type": "stream",
     "text": [
      "0\n",
      "1\n",
      "2\n",
      "3\n",
      "4\n",
      "5\n",
      "6\n",
      "7\n",
      "8\n",
      "9\n"
     ]
    }
   ],
   "source": [
    "## Generators for the Memory  Efficiency\n",
    "#Generators allow you to produce items one at a time, using memory efficiently by only keeping one item in memory at a time.\n",
    "\n",
    "def generator_number(n):\n",
    "    for i in range(n):\n",
    "        yield i\n",
    "\n",
    "## using the generator\n",
    "for num in generator_number(10):\n",
    "    print(num)\n",
    "    if num>10:\n",
    "        break       "
   ]
  },
  {
   "cell_type": "code",
   "execution_count": 1,
   "id": "e0e9d5c5",
   "metadata": {},
   "outputs": [],
   "source": [
    "## Profiling memeory usage with tracemalloc\n",
    "import tracemalloc\n",
    "\n",
    "def create_list():\n",
    "    return [i for i in range(10000)]\n",
    "\n",
    "def main():\n",
    "    tracemalloc.start()\n",
    "    \n",
    "    create_list()\n",
    "    \n",
    "    snapshot = tracemalloc.take_snapshot()\n",
    "    top_stats = snapshot.statistics('lineno')\n",
    "    \n",
    "    print(\"[ Top 10 ]\")\n",
    "    for stat in top_stats[::]:\n",
    "        print(stat)"
   ]
  },
  {
   "cell_type": "code",
   "execution_count": 4,
   "id": "78da4cab",
   "metadata": {},
   "outputs": [
    {
     "name": "stdout",
     "output_type": "stream",
     "text": [
      "[ Top 10 ]\n",
      "d:\\Data Science Bootcamp\\venv\\lib\\tracemalloc.py:67: size=6848 B, count=107, average=64 B\n",
      "d:\\Data Science Bootcamp\\venv\\lib\\tracemalloc.py:193: size=5136 B, count=107, average=48 B\n",
      "d:\\Data Science Bootcamp\\venv\\lib\\json\\decoder.py:353: size=3322 B, count=43, average=77 B\n",
      "d:\\Data Science Bootcamp\\venv\\lib\\site-packages\\zmq\\sugar\\attrsettr.py:45: size=1870 B, count=34, average=55 B\n",
      "d:\\Data Science Bootcamp\\venv\\lib\\site-packages\\ipykernel\\iostream.py:287: size=1672 B, count=10, average=167 B\n",
      "d:\\Data Science Bootcamp\\venv\\lib\\site-packages\\traitlets\\traitlets.py:731: size=1517 B, count=22, average=69 B\n",
      "d:\\Data Science Bootcamp\\venv\\lib\\tracemalloc.py:535: size=1240 B, count=3, average=413 B\n",
      "d:\\Data Science Bootcamp\\venv\\lib\\enum.py:384: size=1080 B, count=3, average=360 B\n",
      "d:\\Data Science Bootcamp\\venv\\lib\\site-packages\\zmq\\sugar\\socket.py:802: size=1056 B, count=6, average=176 B\n",
      "d:\\Data Science Bootcamp\\venv\\lib\\threading.py:600: size=1056 B, count=2, average=528 B\n",
      "d:\\Data Science Bootcamp\\venv\\lib\\site-packages\\jupyter_client\\jsonutil.py:111: size=1044 B, count=18, average=58 B\n",
      "d:\\Data Science Bootcamp\\venv\\lib\\site-packages\\traitlets\\traitlets.py:1543: size=1041 B, count=15, average=69 B\n",
      "d:\\Data Science Bootcamp\\venv\\lib\\tracemalloc.py:226: size=880 B, count=3, average=293 B\n",
      "d:\\Data Science Bootcamp\\venv\\lib\\tracemalloc.py:173: size=800 B, count=2, average=400 B\n",
      "d:\\Data Science Bootcamp\\venv\\lib\\site-packages\\jupyter_client\\session.py:1057: size=796 B, count=6, average=133 B\n",
      "d:\\Data Science Bootcamp\\venv\\lib\\site-packages\\zmq\\eventloop\\zmqstream.py:684: size=688 B, count=3, average=229 B\n",
      "d:\\Data Science Bootcamp\\venv\\lib\\site-packages\\ipykernel\\iostream.py:346: size=672 B, count=7, average=96 B\n",
      "d:\\Data Science Bootcamp\\venv\\lib\\site-packages\\traitlets\\traitlets.py:1514: size=672 B, count=4, average=168 B\n",
      "d:\\Data Science Bootcamp\\venv\\lib\\site-packages\\ipykernel\\kernelbase.py:534: size=648 B, count=2, average=324 B\n",
      "d:\\Data Science Bootcamp\\venv\\lib\\inspect.py:2993: size=632 B, count=1, average=632 B\n",
      "d:\\Data Science Bootcamp\\venv\\lib\\inspect.py:2395: size=632 B, count=1, average=632 B\n",
      "d:\\Data Science Bootcamp\\venv\\lib\\site-packages\\jupyter_client\\session.py:95: size=628 B, count=4, average=157 B\n",
      "d:\\Data Science Bootcamp\\venv\\lib\\site-packages\\jupyter_client\\session.py:1085: size=592 B, count=2, average=296 B\n",
      "d:\\Data Science Bootcamp\\venv\\lib\\site-packages\\jupyter_client\\jsonutil.py:75: size=592 B, count=2, average=296 B\n",
      "d:\\Data Science Bootcamp\\venv\\lib\\tracemalloc.py:533: size=568 B, count=1, average=568 B\n",
      "d:\\Data Science Bootcamp\\venv\\lib\\site-packages\\zmq\\sugar\\socket.py:749: size=552 B, count=2, average=276 B\n",
      "d:\\Data Science Bootcamp\\venv\\lib\\signal.py:30: size=552 B, count=2, average=276 B\n",
      "d:\\Data Science Bootcamp\\venv\\lib\\site-packages\\zmq\\eventloop\\zmqstream.py:629: size=536 B, count=2, average=268 B\n",
      "d:\\Data Science Bootcamp\\venv\\lib\\site-packages\\IPython\\core\\compilerop.py:86: size=496 B, count=10, average=50 B\n",
      "d:\\Data Science Bootcamp\\venv\\lib\\asyncio\\base_events.py:765: size=480 B, count=5, average=96 B\n",
      "d:\\Data Science Bootcamp\\venv\\lib\\site-packages\\ipykernel\\kernelbase.py:460: size=472 B, count=1, average=472 B\n",
      "d:\\Data Science Bootcamp\\venv\\lib\\site-packages\\ipykernel\\iostream.py:609: size=464 B, count=1, average=464 B\n",
      "d:\\Data Science Bootcamp\\venv\\lib\\codeop.py:150: size=454 B, count=7, average=65 B\n",
      "d:\\Data Science Bootcamp\\venv\\lib\\site-packages\\ipykernel\\iostream.py:276: size=448 B, count=5, average=90 B\n",
      "C:\\Users\\HP\\AppData\\Local\\Temp\\ipykernel_4260\\2014248058.py:13: size=448 B, count=1, average=448 B\n",
      "C:\\Users\\HP\\AppData\\Local\\Temp\\ipykernel_4260\\2014248058.py:17: size=440 B, count=1, average=440 B\n",
      "d:\\Data Science Bootcamp\\venv\\lib\\asyncio\\events.py:80: size=432 B, count=6, average=72 B\n",
      "d:\\Data Science Bootcamp\\venv\\lib\\tracemalloc.py:59: size=432 B, count=1, average=432 B\n",
      "d:\\Data Science Bootcamp\\venv\\lib\\tracemalloc.py:505: size=424 B, count=1, average=424 B\n",
      "d:\\Data Science Bootcamp\\venv\\lib\\tracemalloc.py:498: size=424 B, count=1, average=424 B\n",
      "d:\\Data Science Bootcamp\\venv\\lib\\tracemalloc.py:560: size=416 B, count=1, average=416 B\n",
      "d:\\Data Science Bootcamp\\venv\\lib\\tracemalloc.py:423: size=416 B, count=1, average=416 B\n",
      "C:\\Users\\HP\\AppData\\Local\\Temp\\ipykernel_4260\\2014248058.py:12: size=416 B, count=1, average=416 B\n",
      "C:\\Users\\HP\\AppData\\Local\\Temp\\ipykernel_4260\\2014248058.py:5: size=416 B, count=1, average=416 B\n",
      "d:\\Data Science Bootcamp\\venv\\lib\\tracemalloc.py:207: size=408 B, count=1, average=408 B\n",
      "d:\\Data Science Bootcamp\\venv\\lib\\tracemalloc.py:53: size=408 B, count=1, average=408 B\n",
      "d:\\Data Science Bootcamp\\venv\\lib\\tracemalloc.py:501: size=400 B, count=1, average=400 B\n",
      "C:\\Users\\HP\\AppData\\Local\\Temp\\ipykernel_4260\\2014248058.py:10: size=400 B, count=1, average=400 B\n",
      "d:\\Data Science Bootcamp\\venv\\lib\\threading.py:255: size=368 B, count=2, average=184 B\n",
      "d:\\Data Science Bootcamp\\venv\\lib\\site-packages\\ipykernel\\zmqshell.py:549: size=336 B, count=4, average=84 B\n",
      "d:\\Data Science Bootcamp\\venv\\lib\\site-packages\\tornado\\queues.py:248: size=320 B, count=2, average=160 B\n",
      "d:\\Data Science Bootcamp\\venv\\lib\\asyncio\\base_events.py:424: size=320 B, count=2, average=160 B\n",
      "d:\\Data Science Bootcamp\\venv\\lib\\site-packages\\ipykernel\\kernelbase.py:770: size=296 B, count=1, average=296 B\n",
      "d:\\Data Science Bootcamp\\venv\\lib\\site-packages\\tornado\\platform\\asyncio.py:241: size=288 B, count=4, average=72 B\n",
      "d:\\Data Science Bootcamp\\venv\\lib\\site-packages\\ipykernel\\iostream.py:527: size=272 B, count=4, average=68 B\n",
      "d:\\Data Science Bootcamp\\venv\\lib\\site-packages\\IPython\\core\\interactiveshell.py:3106: size=232 B, count=4, average=58 B\n",
      "d:\\Data Science Bootcamp\\venv\\lib\\site-packages\\ipykernel\\kernelbase.py:435: size=224 B, count=2, average=112 B\n",
      "d:\\Data Science Bootcamp\\venv\\lib\\site-packages\\ipykernel\\compiler.py:91: size=214 B, count=2, average=107 B\n",
      "d:\\Data Science Bootcamp\\venv\\lib\\site-packages\\IPython\\core\\interactiveshell.py:259: size=208 B, count=4, average=52 B\n",
      "d:\\Data Science Bootcamp\\venv\\lib\\asyncio\\futures.py:413: size=200 B, count=5, average=40 B\n",
      "d:\\Data Science Bootcamp\\venv\\lib\\enum.py:699: size=192 B, count=2, average=96 B\n",
      "d:\\Data Science Bootcamp\\venv\\lib\\site-packages\\zmq\\sugar\\socket.py:799: size=184 B, count=2, average=92 B\n",
      "d:\\Data Science Bootcamp\\venv\\lib\\site-packages\\jupyter_client\\session.py:989: size=180 B, count=3, average=60 B\n",
      "d:\\Data Science Bootcamp\\venv\\lib\\site-packages\\ipykernel\\ipkernel.py:449: size=176 B, count=3, average=59 B\n",
      "d:\\Data Science Bootcamp\\venv\\lib\\selectors.py:322: size=168 B, count=3, average=56 B\n",
      "d:\\Data Science Bootcamp\\venv\\lib\\site-packages\\zmq\\eventloop\\zmqstream.py:641: size=168 B, count=1, average=168 B\n",
      "d:\\Data Science Bootcamp\\venv\\lib\\inspect.py:156: size=168 B, count=1, average=168 B\n",
      "d:\\Data Science Bootcamp\\venv\\lib\\site-packages\\zmq\\sugar\\socket.py:748: size=152 B, count=3, average=51 B\n",
      "d:\\Data Science Bootcamp\\venv\\lib\\site-packages\\ipykernel\\kernelbase.py:775: size=152 B, count=2, average=76 B\n",
      "d:\\Data Science Bootcamp\\venv\\lib\\site-packages\\IPython\\core\\interactiveshell.py:297: size=144 B, count=3, average=48 B\n",
      "d:\\Data Science Bootcamp\\venv\\lib\\site-packages\\IPython\\core\\compilerop.py:174: size=144 B, count=3, average=48 B\n",
      "d:\\Data Science Bootcamp\\venv\\lib\\site-packages\\ipykernel\\iostream.py:722: size=144 B, count=2, average=72 B\n",
      "d:\\Data Science Bootcamp\\venv\\lib\\site-packages\\IPython\\core\\history.py:836: size=144 B, count=2, average=72 B\n",
      "d:\\Data Science Bootcamp\\venv\\lib\\site-packages\\ipykernel\\kernelbase.py:570: size=144 B, count=1, average=144 B\n",
      "d:\\Data Science Bootcamp\\venv\\lib\\site-packages\\IPython\\core\\interactiveshell.py:3495: size=144 B, count=1, average=144 B\n",
      "d:\\Data Science Bootcamp\\venv\\lib\\site-packages\\IPython\\core\\interactiveshell.py:3239: size=144 B, count=1, average=144 B\n",
      "d:\\Data Science Bootcamp\\venv\\lib\\asyncio\\futures.py:391: size=144 B, count=1, average=144 B\n",
      "d:\\Data Science Bootcamp\\venv\\lib\\asyncio\\futures.py:384: size=144 B, count=1, average=144 B\n",
      "d:\\Data Science Bootcamp\\venv\\lib\\asyncio\\futures.py:378: size=144 B, count=1, average=144 B\n",
      "d:\\Data Science Bootcamp\\venv\\lib\\concurrent\\futures\\_base.py:319: size=128 B, count=2, average=64 B\n",
      "d:\\Data Science Bootcamp\\venv\\lib\\threading.py:313: size=120 B, count=2, average=60 B\n",
      "d:\\Data Science Bootcamp\\venv\\lib\\threading.py:101: size=120 B, count=2, average=60 B\n",
      "d:\\Data Science Bootcamp\\venv\\lib\\asyncio\\selector_events.py:140: size=120 B, count=2, average=60 B\n",
      "d:\\Data Science Bootcamp\\venv\\lib\\site-packages\\IPython\\core\\interactiveshell.py:3377: size=112 B, count=2, average=56 B\n",
      "d:\\Data Science Bootcamp\\venv\\lib\\site-packages\\ipykernel\\kernelbase.py:545: size=112 B, count=1, average=112 B\n",
      "d:\\Data Science Bootcamp\\venv\\lib\\site-packages\\ipykernel\\ipkernel.py:362: size=112 B, count=1, average=112 B\n",
      "d:\\Data Science Bootcamp\\venv\\lib\\site-packages\\ipykernel\\iostream.py:121: size=112 B, count=1, average=112 B\n",
      "d:\\Data Science Bootcamp\\venv\\lib\\site-packages\\IPython\\core\\interactiveshell.py:3519: size=112 B, count=1, average=112 B\n",
      "d:\\Data Science Bootcamp\\venv\\lib\\site-packages\\IPython\\core\\interactiveshell.py:3336: size=112 B, count=1, average=112 B\n",
      "d:\\Data Science Bootcamp\\venv\\lib\\asyncio\\base_events.py:728: size=112 B, count=1, average=112 B\n",
      "d:\\Data Science Bootcamp\\venv\\lib\\site-packages\\IPython\\core\\history.py:782: size=110 B, count=2, average=55 B\n",
      "d:\\Data Science Bootcamp\\venv\\lib\\site-packages\\IPython\\core\\history.py:805: size=104 B, count=2, average=52 B\n",
      "d:\\Data Science Bootcamp\\venv\\lib\\site-packages\\jupyter_client\\session.py:688: size=97 B, count=1, average=97 B\n",
      "d:\\Data Science Bootcamp\\venv\\lib\\site-packages\\IPython\\core\\interactiveshell.py:3511: size=96 B, count=3, average=32 B\n",
      "d:\\Data Science Bootcamp\\venv\\lib\\asyncio\\base_events.py:1865: size=96 B, count=3, average=32 B\n",
      "d:\\Data Science Bootcamp\\venv\\lib\\site-packages\\dateutil\\parser\\isoparser.py:146: size=96 B, count=2, average=48 B\n",
      "d:\\Data Science Bootcamp\\venv\\lib\\site-packages\\IPython\\core\\interactiveshell.py:3226: size=96 B, count=2, average=48 B\n",
      "d:\\Data Science Bootcamp\\venv\\lib\\site-packages\\IPython\\core\\interactiveshell.py:3225: size=96 B, count=2, average=48 B\n",
      "d:\\Data Science Bootcamp\\venv\\lib\\site-packages\\IPython\\core\\history.py:793: size=96 B, count=2, average=48 B\n",
      "d:\\Data Science Bootcamp\\venv\\lib\\threading.py:258: size=96 B, count=1, average=96 B\n",
      "d:\\Data Science Bootcamp\\venv\\lib\\site-packages\\jupyter_client\\session.py:750: size=96 B, count=1, average=96 B\n",
      "d:\\Data Science Bootcamp\\venv\\lib\\site-packages\\ipykernel\\kernelbase.py:1182: size=90 B, count=1, average=90 B\n",
      "d:\\Data Science Bootcamp\\venv\\lib\\threading.py:251: size=72 B, count=1, average=72 B\n",
      "d:\\Data Science Bootcamp\\venv\\lib\\threading.py:247: size=72 B, count=1, average=72 B\n",
      "d:\\Data Science Bootcamp\\venv\\lib\\threading.py:242: size=72 B, count=1, average=72 B\n",
      "d:\\Data Science Bootcamp\\venv\\lib\\threading.py:241: size=72 B, count=1, average=72 B\n",
      "d:\\Data Science Bootcamp\\venv\\lib\\site-packages\\jupyter_client\\session.py:996: size=64 B, count=2, average=32 B\n",
      "d:\\Data Science Bootcamp\\venv\\lib\\threading.py:597: size=64 B, count=1, average=64 B\n",
      "d:\\Data Science Bootcamp\\venv\\lib\\site-packages\\zmq\\sugar\\socket.py:803: size=64 B, count=1, average=64 B\n",
      "d:\\Data Science Bootcamp\\venv\\lib\\site-packages\\zmq\\sugar\\socket.py:698: size=64 B, count=1, average=64 B\n",
      "d:\\Data Science Bootcamp\\venv\\lib\\site-packages\\ipykernel\\ipkernel.py:384: size=64 B, count=1, average=64 B\n",
      "d:\\Data Science Bootcamp\\venv\\lib\\site-packages\\ipykernel\\ipkernel.py:383: size=64 B, count=1, average=64 B\n",
      "d:\\Data Science Bootcamp\\venv\\lib\\site-packages\\ipykernel\\ipkernel.py:294: size=64 B, count=1, average=64 B\n",
      "d:\\Data Science Bootcamp\\venv\\lib\\site-packages\\ipykernel\\ipkernel.py:291: size=64 B, count=1, average=64 B\n",
      "d:\\Data Science Bootcamp\\venv\\lib\\site-packages\\IPython\\core\\interactiveshell.py:3568: size=64 B, count=1, average=64 B\n",
      "d:\\Data Science Bootcamp\\venv\\lib\\site-packages\\IPython\\core\\interactiveshell.py:3305: size=64 B, count=1, average=64 B\n",
      "d:\\Data Science Bootcamp\\venv\\lib\\site-packages\\IPython\\core\\interactiveshell.py:3302: size=64 B, count=1, average=64 B\n",
      "d:\\Data Science Bootcamp\\venv\\lib\\site-packages\\ipykernel\\iostream.py:684: size=58 B, count=1, average=58 B\n",
      "d:\\Data Science Bootcamp\\venv\\lib\\tracemalloc.py:558: size=56 B, count=1, average=56 B\n",
      "d:\\Data Science Bootcamp\\venv\\lib\\site-packages\\jupyter_client\\session.py:1088: size=56 B, count=1, average=56 B\n",
      "d:\\Data Science Bootcamp\\venv\\lib\\site-packages\\IPython\\core\\payload.py:54: size=56 B, count=1, average=56 B\n",
      "d:\\Data Science Bootcamp\\venv\\lib\\enum.py:701: size=56 B, count=1, average=56 B\n",
      "d:\\Data Science Bootcamp\\venv\\lib\\site-packages\\IPython\\core\\prefilter.py:317: size=55 B, count=1, average=55 B\n",
      "d:\\Data Science Bootcamp\\venv\\lib\\site-packages\\tornado\\concurrent.py:196: size=48 B, count=1, average=48 B\n",
      "d:\\Data Science Bootcamp\\venv\\lib\\site-packages\\jupyter_client\\session.py:200: size=48 B, count=1, average=48 B\n",
      "d:\\Data Science Bootcamp\\venv\\lib\\site-packages\\ipykernel\\kernelbase.py:318: size=48 B, count=1, average=48 B\n",
      "d:\\Data Science Bootcamp\\venv\\lib\\site-packages\\IPython\\core\\interactiveshell.py:3507: size=48 B, count=1, average=48 B\n",
      "d:\\Data Science Bootcamp\\venv\\lib\\concurrent\\futures\\_base.py:327: size=48 B, count=1, average=48 B\n",
      "d:\\Data Science Bootcamp\\venv\\lib\\asyncio\\base_events.py:713: size=48 B, count=1, average=48 B\n",
      "d:\\Data Science Bootcamp\\venv\\lib\\site-packages\\zmq\\eventloop\\zmqstream.py:664: size=40 B, count=1, average=40 B\n",
      "d:\\Data Science Bootcamp\\venv\\lib\\site-packages\\ipykernel\\iostream.py:168: size=32 B, count=1, average=32 B\n",
      "d:\\Data Science Bootcamp\\venv\\lib\\site-packages\\IPython\\core\\interactiveshell.py:3505: size=32 B, count=1, average=32 B\n",
      "d:\\Data Science Bootcamp\\venv\\lib\\concurrent\\futures\\_base.py:410: size=32 B, count=1, average=32 B\n",
      "d:\\Data Science Bootcamp\\venv\\lib\\asyncio\\base_events.py:731: size=32 B, count=1, average=32 B\n",
      "d:\\Data Science Bootcamp\\venv\\lib\\site-packages\\ipykernel\\iostream.py:637: size=28 B, count=1, average=28 B\n",
      "d:\\Data Science Bootcamp\\venv\\lib\\site-packages\\IPython\\core\\compilerop.py:192: size=28 B, count=1, average=28 B\n",
      "d:\\Data Science Bootcamp\\venv\\lib\\site-packages\\IPython\\core\\interactiveshell.py:3487: size=8 B, count=1, average=8 B\n"
     ]
    }
   ],
   "source": [
    "main()"
   ]
  }
 ],
 "metadata": {
  "kernelspec": {
   "display_name": "venv",
   "language": "python",
   "name": "python3"
  },
  "language_info": {
   "codemirror_mode": {
    "name": "ipython",
    "version": 3
   },
   "file_extension": ".py",
   "mimetype": "text/x-python",
   "name": "python",
   "nbconvert_exporter": "python",
   "pygments_lexer": "ipython3",
   "version": "3.10.0"
  }
 },
 "nbformat": 4,
 "nbformat_minor": 5
}
