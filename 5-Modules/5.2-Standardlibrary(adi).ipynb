{
 "cells": [
  {
   "cell_type": "markdown",
   "id": "5df2a558",
   "metadata": {},
   "source": [
    "##### Standard Library Overview\n",
    "Python's Standard Library is a vast collection of modules and packages that come bundled with Python, providing a wide range of functionalities out of the box. Here's an overview of some of the most commonly used modules and packages in the Python Standard Library."
   ]
  },
  {
   "cell_type": "code",
   "execution_count": 1,
   "id": "fe3e7f1c",
   "metadata": {},
   "outputs": [
    {
     "name": "stdout",
     "output_type": "stream",
     "text": [
      "array('i', [1, 2, 3, 4, 5])\n"
     ]
    }
   ],
   "source": [
    "import array \n",
    "arr = array.array('i', [1, 2, 3, 4, 5]) \n",
    "print(arr)"
   ]
  },
  {
   "cell_type": "code",
   "execution_count": 2,
   "id": "9406e129",
   "metadata": {},
   "outputs": [
    {
     "name": "stdout",
     "output_type": "stream",
     "text": [
      "4.0\n",
      "3.141592653589793\n"
     ]
    }
   ],
   "source": [
    "import math\n",
    "print(math.sqrt(16))  \n",
    "print(math.pi)"
   ]
  },
  {
   "cell_type": "markdown",
   "id": "b9c1befa",
   "metadata": {},
   "source": [
    "####### random package "
   ]
  },
  {
   "cell_type": "code",
   "execution_count": null,
   "id": "89a574e4",
   "metadata": {},
   "outputs": [
    {
     "name": "stdout",
     "output_type": "stream",
     "text": [
      "4\n",
      "cherry\n"
     ]
    }
   ],
   "source": [
    "## random package example\n",
    "\n",
    "import random\n",
    "print(random.randint(1, 10))  # Random integer between 1 and 10\n",
    "print(random.choice(['apple', 'banana', 'cherry']))  # Random choice from a list"
   ]
  },
  {
   "cell_type": "code",
   "execution_count": 1,
   "id": "c3c71448",
   "metadata": {},
   "outputs": [
    {
     "name": "stdout",
     "output_type": "stream",
     "text": [
      "d:\\Data Science Bootcamp\\5-Modules\n"
     ]
    }
   ],
   "source": [
    "### File And Directory Access\n",
    "\n",
    "import os\n",
    "print(os.getcwd())  # Get current working directory"
   ]
  },
  {
   "cell_type": "code",
   "execution_count": 2,
   "id": "17bd3056",
   "metadata": {},
   "outputs": [],
   "source": [
    "os.mkdir('test_directory')  # Create a new directory"
   ]
  },
  {
   "cell_type": "code",
   "execution_count": 3,
   "id": "f337d60d",
   "metadata": {},
   "outputs": [
    {
     "data": {
      "text/plain": [
       "'destination.txt'"
      ]
     },
     "execution_count": 3,
     "metadata": {},
     "output_type": "execute_result"
    }
   ],
   "source": [
    "## High level operations on files and collections of files\n",
    "\n",
    "import shutil\n",
    "shutil.copyfile('source.txt', 'destination.txt')  # Copy a file"
   ]
  },
  {
   "cell_type": "markdown",
   "id": "7f032774",
   "metadata": {},
   "source": [
    "####### Data Serialization"
   ]
  },
  {
   "cell_type": "code",
   "execution_count": null,
   "id": "a1712383",
   "metadata": {},
   "outputs": [
    {
     "name": "stdout",
     "output_type": "stream",
     "text": [
      "{\"name\": \"Alice\", \"age\": 30}\n",
      "<class 'str'>\n",
      "{'name': 'Alice', 'age': 30}\n",
      "<class 'dict'>\n"
     ]
    }
   ],
   "source": [
    "## Data Serialization\n",
    "\n",
    "\"\"\"\n",
    "✅ Imports Python’s built-in json module.\n",
    "\n",
    "Used for JSON serialization (convert Python objects → JSON string).\n",
    "\n",
    "And deserialization (JSON string → Python objects).\n",
    "\"\"\"\n",
    "\n",
    "import json \n",
    "data = {'name': 'Alice', 'age': 30}\n",
    "\n",
    "json_str = json.dumps(data)\n",
    "print(json_str)\n",
    "print(type(json_str))\n",
    "\n",
    "parsed_data = json.loads(json_str)\n",
    "print(parsed_data)\n",
    "print(type(parsed_data))"
   ]
  },
  {
   "cell_type": "code",
   "execution_count": 7,
   "id": "60d47f3d",
   "metadata": {},
   "outputs": [
    {
     "name": "stdout",
     "output_type": "stream",
     "text": [
      "['Name', 'Age', 'City']\n",
      "['Alice', '30', 'New York']\n"
     ]
    }
   ],
   "source": [
    "## csv package example\n",
    "\n",
    "import csv\n",
    "\n",
    "with open(\"example.csv\", mode=\"w\",newline=\"\") as file:\n",
    "    writer = csv.writer(file)\n",
    "    writer.writerow([\"Name\", \"Age\", \"City\"])\n",
    "    writer.writerow([\"Alice\", 30, \"New York\"])\n",
    "\n",
    "\n",
    "with open(\"example.csv\", mode=\"r\") as file:\n",
    "    reader = csv.reader(file)\n",
    "    for row in reader:\n",
    "        print(row)"
   ]
  },
  {
   "cell_type": "code",
   "execution_count": 8,
   "id": "61c8431d",
   "metadata": {},
   "outputs": [
    {
     "name": "stdout",
     "output_type": "stream",
     "text": [
      "Current date and time: 2025-07-12 13:06:31.320539\n",
      "Yesterday's date and time: 2025-07-11 13:06:31.320539\n"
     ]
    }
   ],
   "source": [
    "## datetime package example\n",
    "\n",
    "from datetime import datetime, timedelta\n",
    "\n",
    "now = datetime.now()\n",
    "print(\"Current date and time:\", now)\n",
    "\n",
    "yesterday = now - timedelta(days=1)\n",
    "print(\"Yesterday's date and time:\", yesterday)"
   ]
  },
  {
   "cell_type": "code",
   "execution_count": 9,
   "metadata": {},
   "outputs": [
    {
     "name": "stdout",
     "output_type": "stream",
     "text": [
      "Current time in seconds since the epoch: 1752306053.013921\n",
      "2 seconds later...\n",
      "Current time in seconds since the epoch: 1752306055.0189264\n"
     ]
    }
   ],
   "source": [
    "## time package example\n",
    "\n",
    "import time \n",
    "print(\"Current time in seconds since the epoch:\", time.time())\n",
    "time.sleep(2)  # Sleep for 2 seconds\n",
    "print(\"2 seconds later...\")\n",
    "print(\"Current time in seconds since the epoch:\", time.time())"
   ]
  },
  {
   "cell_type": "code",
   "execution_count": null,
   "id": "0270871f",
   "metadata": {},
   "outputs": [
    {
     "name": "stdout",
     "output_type": "stream",
     "text": [
      "123\n"
     ]
    }
   ],
   "source": [
    "## Regular Expressions\n",
    "\"\"\"\n",
    "✅ Imports Python’s built-in re module.\n",
    "\n",
    "re stands for regular expressions.\n",
    "\n",
    "Used for searching, matching, splitting, and replacing text patterns.\n",
    "\"\"\"\n",
    "\n",
    "import re\n",
    "\n",
    "pattern = r'\\d+'\n",
    "text = \"There are 123 apples and 456 oranges.\"\n",
    "match = re.search(pattern,text)\n",
    "print(match.group())"
   ]
  },
  {
   "cell_type": "code",
   "execution_count": null,
   "id": "43795bc5",
   "metadata": {},
   "outputs": [],
   "source": []
  },
  {
   "cell_type": "code",
   "execution_count": null,
   "id": "7114f8c9",
   "metadata": {},
   "outputs": [],
   "source": []
  },
  {
   "cell_type": "code",
   "execution_count": null,
   "id": "441d9140",
   "metadata": {},
   "outputs": [],
   "source": []
  }
 ],
 "metadata": {
  "kernelspec": {
   "display_name": "base",
   "language": "python",
   "name": "python3"
  },
  "language_info": {
   "codemirror_mode": {
    "name": "ipython",
    "version": 3
   },
   "file_extension": ".py",
   "mimetype": "text/x-python",
   "name": "python",
   "nbconvert_exporter": "python",
   "pygments_lexer": "ipython3",
   "version": "3.12.7"
  }
 },
 "nbformat": 4,
 "nbformat_minor": 5
}
