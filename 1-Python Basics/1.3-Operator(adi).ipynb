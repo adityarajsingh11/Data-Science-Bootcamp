{
 "cells": [
  {
   "cell_type": "markdown",
   "metadata": {},
   "source": [
    "### Content Outline:\n",
    "1. Introduction to Operators\n",
    "2. Arithmetic Operators\n",
    "   - Addition\n",
    "   - Subtraction\n",
    "   - Multiplication\n",
    "   - Division\n",
    "   - Floor Division\n",
    "   - Modulus\n",
    "   - Exponentiation\n",
    "3. Comparison Operators\n",
    "   - Equal to\n",
    "   - Not equal to\n",
    "   - Greater than\n",
    "   - Less than\n",
    "   - Greater than or equal to \n",
    "   - Less than or equal to\n",
    "4. Logical Operators\n",
    "   - AND\n",
    "   - OR\n",
    "   - NOT\n",
    "5. Practical Examples and Common Errors"
   ]
  },
  {
   "cell_type": "markdown",
   "metadata": {},
   "source": [
    "#### Arithmetic Operator"
   ]
  },
  {
   "cell_type": "code",
   "execution_count": 1,
   "metadata": {},
   "outputs": [
    {
     "name": "stdout",
     "output_type": "stream",
     "text": [
      "13\n",
      "7\n",
      "30\n",
      "3.3333333333333335\n",
      "3\n",
      "1\n",
      "1000\n"
     ]
    }
   ],
   "source": [
    "# Arithmetic Operation \n",
    "a = 10\n",
    "b = 3\n",
    "add = a + b\n",
    "sub = a - b\n",
    "multiplication = a*b\n",
    "division = a/b\n",
    "floor_division = a//b\n",
    "Modulus = a%b\n",
    "exponent = a**b\n",
    "\n",
    "print(add)\n",
    "print(sub)\n",
    "print(multiplication)\n",
    "print(division)\n",
    "print(floor_division)\n",
    "print(Modulus)\n",
    "print(exponent)"
   ]
  },
  {
   "cell_type": "markdown",
   "metadata": {},
   "source": [
    "#### Comparison Operator"
   ]
  },
  {
   "cell_type": "code",
   "execution_count": 2,
   "metadata": {},
   "outputs": [
    {
     "data": {
      "text/plain": [
       "True"
      ]
     },
     "execution_count": 2,
     "metadata": {},
     "output_type": "execute_result"
    }
   ],
   "source": [
    "## Equal to operator \n",
    "a = 10\n",
    "b = 10\n",
    "a==b"
   ]
  },
  {
   "cell_type": "code",
   "execution_count": 3,
   "metadata": {},
   "outputs": [
    {
     "data": {
      "text/plain": [
       "False"
      ]
     },
     "execution_count": 3,
     "metadata": {},
     "output_type": "execute_result"
    }
   ],
   "source": [
    "a = \"aditya\"\n",
    "b = \"Aditya\"\n",
    "a == b"
   ]
  },
  {
   "cell_type": "code",
   "execution_count": 5,
   "metadata": {},
   "outputs": [
    {
     "name": "stdout",
     "output_type": "stream",
     "text": [
      "True\n"
     ]
    }
   ],
   "source": [
    "print(a != b)"
   ]
  },
  {
   "cell_type": "code",
   "execution_count": 6,
   "metadata": {},
   "outputs": [
    {
     "data": {
      "text/plain": [
       "True"
      ]
     },
     "execution_count": 6,
     "metadata": {},
     "output_type": "execute_result"
    }
   ],
   "source": [
    "## Greater than >\n",
    "number1 = 100\n",
    "number2 = 78\n",
    "number1 > number2"
   ]
  },
  {
   "cell_type": "code",
   "execution_count": 7,
   "metadata": {},
   "outputs": [
    {
     "data": {
      "text/plain": [
       "False"
      ]
     },
     "execution_count": 7,
     "metadata": {},
     "output_type": "execute_result"
    }
   ],
   "source": [
    "## Less than <\n",
    "number1 < number2"
   ]
  },
  {
   "cell_type": "code",
   "execution_count": 8,
   "metadata": {},
   "outputs": [
    {
     "data": {
      "text/plain": [
       "True"
      ]
     },
     "execution_count": 8,
     "metadata": {},
     "output_type": "execute_result"
    }
   ],
   "source": [
    "## Greater than or equal to\n",
    "num1 = 100\n",
    "num2 = 100\n",
    "num1 >= num2"
   ]
  },
  {
   "cell_type": "code",
   "execution_count": 10,
   "metadata": {},
   "outputs": [
    {
     "data": {
      "text/plain": [
       "True"
      ]
     },
     "execution_count": 10,
     "metadata": {},
     "output_type": "execute_result"
    }
   ],
   "source": [
    "## less than or equal to\n",
    "num1 <= num2"
   ]
  },
  {
   "cell_type": "markdown",
   "metadata": {},
   "source": [
    "#### Logical Operator"
   ]
  },
  {
   "cell_type": "code",
   "execution_count": 12,
   "metadata": {},
   "outputs": [
    {
     "name": "stdout",
     "output_type": "stream",
     "text": [
      "True\n"
     ]
    }
   ],
   "source": [
    "## And operator\n",
    "X = True\n",
    "Y = True\n",
    "result = X and Y\n",
    "print(result)\n"
   ]
  },
  {
   "cell_type": "code",
   "execution_count": 13,
   "metadata": {},
   "outputs": [
    {
     "name": "stdout",
     "output_type": "stream",
     "text": [
      "False\n"
     ]
    }
   ],
   "source": [
    "X = True\n",
    "Y = False\n",
    "result = X and Y\n",
    "print(result)"
   ]
  },
  {
   "cell_type": "code",
   "execution_count": 14,
   "metadata": {},
   "outputs": [
    {
     "name": "stdout",
     "output_type": "stream",
     "text": [
      "True\n"
     ]
    }
   ],
   "source": [
    "## or operator\n",
    "X = True\n",
    "Y = True\n",
    "result = X or  Y\n",
    "print(result)"
   ]
  },
  {
   "cell_type": "code",
   "execution_count": 15,
   "metadata": {},
   "outputs": [
    {
     "name": "stdout",
     "output_type": "stream",
     "text": [
      "False\n"
     ]
    }
   ],
   "source": [
    "X = True\n",
    "Y = False\n",
    "result = X and Y\n",
    "print(result)"
   ]
  },
  {
   "cell_type": "code",
   "execution_count": 16,
   "metadata": {},
   "outputs": [
    {
     "data": {
      "text/plain": [
       "False"
      ]
     },
     "execution_count": 16,
     "metadata": {},
     "output_type": "execute_result"
    }
   ],
   "source": [
    "## not operator\n",
    "X = True\n",
    "not X"
   ]
  },
  {
   "cell_type": "code",
   "execution_count": 17,
   "metadata": {},
   "outputs": [
    {
     "name": "stdout",
     "output_type": "stream",
     "text": [
      "Addition: 15.0\n",
      "Subtraction: 5.0\n",
      "Multiplication: 50.0\n",
      "Division: 2.0\n",
      "Floor Division: 2.0\n",
      "Modulus: 0.0\n",
      "Exponentiation: 100000.0\n"
     ]
    }
   ],
   "source": [
    "## Simple Calculator\n",
    "\n",
    "# Simple calculator\n",
    "num1 = float(input(\"Enter first number: \"))\n",
    "num2 = float(input(\"Enter second number: \"))\n",
    "\n",
    "# Performing arithmetic operations\n",
    "addition = num1 + num2\n",
    "subtraction = num1 - num2\n",
    "multiplication = num1 * num2\n",
    "division = num1 / num2\n",
    "floor_division = num1 // num2\n",
    "modulus = num1 % num2\n",
    "exponentiation = num1 ** num2\n",
    "\n",
    "# Displaying results\n",
    "print(\"Addition:\", addition)\n",
    "print(\"Subtraction:\", subtraction)\n",
    "print(\"Multiplication:\", multiplication)\n",
    "print(\"Division:\", division)\n",
    "print(\"Floor Division:\", floor_division)\n",
    "print(\"Modulus:\", modulus)\n",
    "print(\"Exponentiation:\", exponentiation)\n"
   ]
  }
 ],
 "metadata": {
  "kernelspec": {
   "display_name": "base",
   "language": "python",
   "name": "python3"
  },
  "language_info": {
   "codemirror_mode": {
    "name": "ipython",
    "version": 3
   },
   "file_extension": ".py",
   "mimetype": "text/x-python",
   "name": "python",
   "nbconvert_exporter": "python",
   "pygments_lexer": "ipython3",
   "version": "3.12.7"
  }
 },
 "nbformat": 4,
 "nbformat_minor": 2
}
