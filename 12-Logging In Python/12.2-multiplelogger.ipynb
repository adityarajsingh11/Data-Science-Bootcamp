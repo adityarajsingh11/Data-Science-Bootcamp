{
 "cells": [
  {
   "cell_type": "markdown",
   "id": "8b785824",
   "metadata": {},
   "source": [
    "#### Logging with Multiple Loggers\n",
    "You can create multiple loggers for different parts of your application."
   ]
  },
  {
   "cell_type": "code",
   "execution_count": 1,
   "id": "f3d55f40",
   "metadata": {},
   "outputs": [],
   "source": [
    "import logging \n",
    "\n",
    "## create a logger for the module1\n",
    "logger1=logging.getLogger(\"module1\")\n",
    "logger1.setLevel(logging.DEBUG)\n",
    "\n",
    "\n",
    "## create a logger for the module2\n",
    "logger2=logging.getLogger(\"module2\")\n",
    "logger2.setLevel(logging.WARNING)\n",
    "\n",
    "## configure logging settings\n",
    "logging.basicConfig(\n",
    "    level=logging.DEBUG,\n",
    "    format='%(asctime)s - %(name)s - %(levelname)s - %(message)s',\n",
    "    datefmt='%Y-%m-%d %H:%M:%S'\n",
    ")"
   ]
  },
  {
   "cell_type": "code",
   "execution_count": 2,
   "id": "d5ab1ee6",
   "metadata": {},
   "outputs": [
    {
     "name": "stderr",
     "output_type": "stream",
     "text": [
      "2025-08-03 20:35:48 - module1 - DEBUG - This is debug message for module1\n",
      "2025-08-03 20:35:48 - module2 - WARNING - This is a warning message for module 2\n",
      "2025-08-03 20:35:48 - module2 - ERROR - This is an error message\n"
     ]
    }
   ],
   "source": [
    "## log message with different loggers\n",
    "logger1.debug(\"This is debug message for module1\")\n",
    "logger2.warning(\"This is a warning message for module 2\")\n",
    "logger2.error(\"This is an error message\")"
   ]
  },
  {
   "cell_type": "code",
   "execution_count": null,
   "id": "60cee7eb",
   "metadata": {},
   "outputs": [],
   "source": []
  },
  {
   "cell_type": "code",
   "execution_count": null,
   "id": "ea26c012",
   "metadata": {},
   "outputs": [],
   "source": []
  }
 ],
 "metadata": {
  "kernelspec": {
   "display_name": "base",
   "language": "python",
   "name": "python3"
  },
  "language_info": {
   "codemirror_mode": {
    "name": "ipython",
    "version": 3
   },
   "file_extension": ".py",
   "mimetype": "text/x-python",
   "name": "python",
   "nbconvert_exporter": "python",
   "pygments_lexer": "ipython3",
   "version": "3.12.7"
  }
 },
 "nbformat": 4,
 "nbformat_minor": 5
}
