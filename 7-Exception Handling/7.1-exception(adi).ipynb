{
 "cells": [
  {
   "cell_type": "markdown",
   "id": "d1873c21",
   "metadata": {},
   "source": [
    "#### Understanding Exceptions\n",
    "\n",
    "Exception handling in Python allows you to handle errors gracefully and take corrective actions without stopping the execution of the program. This lesson will cover the basics of exceptions, including how to use try, except, else, and finally blocks."
   ]
  },
  {
   "cell_type": "markdown",
   "id": "8cb78b7f",
   "metadata": {},
   "source": [
    "##### What Are Exceptions?\n",
    "Exceptions are events that disrupt the normal flow of a program. They occur when an error is encountered during program execution. Common exceptions include:\n",
    "\n",
    "- ZeroDivisionError: Dividing by zero.\n",
    "- FileNotFoundError: File not found.\n",
    "- ValueError: Invalid value.\n",
    "- TypeError: Invalid type."
   ]
  },
  {
   "cell_type": "code",
   "execution_count": 3,
   "id": "e7769237",
   "metadata": {},
   "outputs": [
    {
     "name": "stdout",
     "output_type": "stream",
     "text": [
      "The variable is not defined\n"
     ]
    }
   ],
   "source": [
    "## Exception try,except block\n",
    "\n",
    "try:\n",
    "    a=b\n",
    "except:\n",
    "    print(\"The variable is not defined\")    \n"
   ]
  },
  {
   "cell_type": "code",
   "execution_count": 4,
   "id": "079158fb",
   "metadata": {},
   "outputs": [
    {
     "ename": "NameError",
     "evalue": "name 'b' is not defined",
     "output_type": "error",
     "traceback": [
      "\u001b[1;31m---------------------------------------------------------------------------\u001b[0m",
      "\u001b[1;31mNameError\u001b[0m                                 Traceback (most recent call last)",
      "Cell \u001b[1;32mIn[4], line 1\u001b[0m\n\u001b[1;32m----> 1\u001b[0m a\u001b[38;5;241m=\u001b[39mb\n",
      "\u001b[1;31mNameError\u001b[0m: name 'b' is not defined"
     ]
    }
   ],
   "source": [
    "a=b"
   ]
  },
  {
   "cell_type": "code",
   "execution_count": 5,
   "id": "60d00528",
   "metadata": {},
   "outputs": [
    {
     "name": "stdout",
     "output_type": "stream",
     "text": [
      "name 'b' is not defined\n"
     ]
    }
   ],
   "source": [
    "try:\n",
    "    a=b\n",
    "except NameError as ex:\n",
    "    print(ex)    \n"
   ]
  },
  {
   "cell_type": "code",
   "execution_count": 7,
   "id": "f311b561",
   "metadata": {},
   "outputs": [
    {
     "name": "stdout",
     "output_type": "stream",
     "text": [
      "division by zero\n",
      "Please enter the denominator greater than zero\n"
     ]
    }
   ],
   "source": [
    "try:\n",
    "    result = 1/0\n",
    "\n",
    "except  ZeroDivisionError  as ex:\n",
    "    print(ex)\n",
    "    print(\"Please enter the denominator greater than zero\") "
   ]
  },
  {
   "cell_type": "code",
   "execution_count": 8,
   "id": "9d82a50e",
   "metadata": {},
   "outputs": [
    {
     "ename": "NameError",
     "evalue": "name 'b' is not defined",
     "output_type": "error",
     "traceback": [
      "\u001b[1;31m---------------------------------------------------------------------------\u001b[0m",
      "\u001b[1;31mNameError\u001b[0m                                 Traceback (most recent call last)",
      "Cell \u001b[1;32mIn[8], line 3\u001b[0m\n\u001b[0;32m      1\u001b[0m \u001b[38;5;28;01mtry\u001b[39;00m:\n\u001b[0;32m      2\u001b[0m     result \u001b[38;5;241m=\u001b[39m \u001b[38;5;241m1\u001b[39m\u001b[38;5;241m/\u001b[39m\u001b[38;5;241m2\u001b[39m\n\u001b[1;32m----> 3\u001b[0m     a \u001b[38;5;241m=\u001b[39mb\n\u001b[0;32m      5\u001b[0m \u001b[38;5;28;01mexcept\u001b[39;00m  \u001b[38;5;167;01mZeroDivisionError\u001b[39;00m  \u001b[38;5;28;01mas\u001b[39;00m ex:\n\u001b[0;32m      6\u001b[0m     \u001b[38;5;28mprint\u001b[39m(ex)\n",
      "\u001b[1;31mNameError\u001b[0m: name 'b' is not defined"
     ]
    }
   ],
   "source": [
    "try:\n",
    "    result = 1/2\n",
    "    a =b\n",
    "\n",
    "except  ZeroDivisionError  as ex:\n",
    "    print(ex)\n",
    "    print(\"Please enter the denominator greater than zero\") "
   ]
  },
  {
   "cell_type": "code",
   "execution_count": 10,
   "id": "d905646f",
   "metadata": {},
   "outputs": [
    {
     "name": "stdout",
     "output_type": "stream",
     "text": [
      "name 'b' is not defined\n",
      "Please enter the denominator greater than zero\n"
     ]
    }
   ],
   "source": [
    "try:\n",
    "    result = 1/2\n",
    "    a =b\n",
    "\n",
    "except  ZeroDivisionError  as ex:\n",
    "    print(ex)\n",
    "    print(\"Please enter the denominator greater than zero\")     \n",
    "\n",
    "except  Exception  as ex1:  ## Exception is also a base class for all exceptions\n",
    "    print(ex1)\n",
    "    print(\"Please enter the denominator greater than zero\") "
   ]
  },
  {
   "cell_type": "code",
   "execution_count": null,
   "id": "63bb3d9f",
   "metadata": {},
   "outputs": [
    {
     "name": "stdout",
     "output_type": "stream",
     "text": [
      "This is not a valid number\n"
     ]
    }
   ],
   "source": [
    "try:\n",
    "    num = int(input(\"Enter the number\"))\n",
    "    result = 1/num\n",
    "except ValueError:\n",
    "    print(\"This is not a valid number\")\n",
    "except ZeroDivisionError:\n",
    "    print(\"Enter the number greater than 0\")    \n",
    "except Exception as ex:\n",
    "    print(ex)        "
   ]
  },
  {
   "cell_type": "code",
   "execution_count": 15,
   "id": "0e642cd0",
   "metadata": {},
   "outputs": [
    {
     "name": "stdout",
     "output_type": "stream",
     "text": [
      "the result is 1.25\n"
     ]
    }
   ],
   "source": [
    "## try , except , else block\n",
    "try:\n",
    "    num = int(input(\"Enter the number\"))\n",
    "    result = 10/num\n",
    "except ValueError:\n",
    "    print(\"This is not a valid number\")\n",
    "except ZeroDivisionError:\n",
    "    print(\"Enter the number greater than 0\")    \n",
    "except Exception as ex:\n",
    "    print(ex) \n",
    "else:   ## if the exception occur then the else block is not executed \n",
    "    print(f\"the result is {result}\")        "
   ]
  },
  {
   "cell_type": "code",
   "execution_count": 16,
   "id": "f5093b08",
   "metadata": {},
   "outputs": [
    {
     "name": "stdout",
     "output_type": "stream",
     "text": [
      "the result is 0.8333333333333334\n",
      "Execution complete.\n"
     ]
    }
   ],
   "source": [
    "## try , except , else block , finally block\n",
    "try:\n",
    "    num = int(input(\"Enter the number\"))\n",
    "    result = 10/num\n",
    "except ValueError:\n",
    "    print(\"This is not a valid number\")\n",
    "except ZeroDivisionError:\n",
    "    print(\"Enter the number greater than 0\")    \n",
    "except Exception as ex:\n",
    "    print(ex) \n",
    "else:  \n",
    "    print(f\"the result is {result}\")\n",
    "finally:\n",
    "    print(\"Execution complete.\")  ## finally block is always executed whether exception occurs or not          "
   ]
  },
  {
   "cell_type": "code",
   "execution_count": null,
   "id": "8706fb7f",
   "metadata": {},
   "outputs": [
    {
     "name": "stdout",
     "output_type": "stream",
     "text": [
      "name 'b' is not defined\n",
      "File closed Successfully\n"
     ]
    }
   ],
   "source": [
    "## File handling and Exception Handling \n",
    "\n",
    "try:\n",
    "    file = open(\"example.txt\",\"r\")  ## if open file then need to close the file\n",
    "    content = file.read()\n",
    "    a=b\n",
    "    print(content)\n",
    "\n",
    "except FileNotFoundError:\n",
    "    print(\"File not found. Please check the file path\")\n",
    "except Exception as ex:\n",
    "    print(ex)    \n",
    "\n",
    "finally:\n",
    "    if 'file' in locals() or not file.closed():\n",
    "        file.close()\n",
    "        print(\"File closed Successfully\")    "
   ]
  },
  {
   "cell_type": "code",
   "execution_count": null,
   "id": "cda6c282",
   "metadata": {},
   "outputs": [],
   "source": []
  },
  {
   "cell_type": "code",
   "execution_count": null,
   "metadata": {},
   "outputs": [],
   "source": []
  }
 ],
 "metadata": {
  "kernelspec": {
   "display_name": "base",
   "language": "python",
   "name": "python3"
  },
  "language_info": {
   "codemirror_mode": {
    "name": "ipython",
    "version": 3
   },
   "file_extension": ".py",
   "mimetype": "text/x-python",
   "name": "python",
   "nbconvert_exporter": "python",
   "pygments_lexer": "ipython3",
   "version": "3.12.7"
  }
 },
 "nbformat": 4,
 "nbformat_minor": 5
}
